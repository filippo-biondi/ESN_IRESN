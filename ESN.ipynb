{
 "cells": [
  {
   "cell_type": "code",
   "execution_count": 1,
   "metadata": {
    "collapsed": true,
    "pycharm": {
     "name": "#%%\n"
    }
   },
   "outputs": [],
   "source": [
    "import os\n",
    "import warnings\n",
    "import pickle\n",
    "import numpy as np\n",
    "import random\n",
    "\n",
    "os.environ[\"CUDA_VISIBLE_DEVICES\"] = '-1'\n",
    "os.environ['TF_CPP_MIN_LOG_LEVEL'] = '3'\n",
    "warnings.filterwarnings('ignore')"
   ]
  },
  {
   "cell_type": "code",
   "execution_count": 2,
   "outputs": [],
   "source": [
    "with open(r\"./Data/dataset_n306_X_500_12.pickle\", \"rb\") as input_file:\n",
    "    dataset = pickle.load(input_file)\n",
    "\n",
    "(x_dataset, y_dataset, labels) = dataset\n",
    "permutation = list(range(x_dataset.shape[0]))\n",
    "\n",
    "# if you need to shuffle the dataset\n",
    "random.shuffle(permutation)\n",
    "\n",
    "x_dataset = np.array([x_dataset[i] for i in permutation])\n",
    "y_dataset = np.array([y_dataset[i] for i in permutation])\n",
    "labels = np.array([labels[i] for i in permutation])\n",
    "\n",
    "leads = [6, 7, 8] # V1 V2 V3\n",
    "n_leads = len(leads)\n",
    "\n",
    "x_dataset = np.take(x_dataset, leads, axis=-1)"
   ],
   "metadata": {
    "collapsed": false,
    "pycharm": {
     "name": "#%%\n"
    }
   }
  },
  {
   "cell_type": "code",
   "execution_count": null,
   "outputs": [],
   "source": [
    "from search import double_k_fold, search_direct, k_fold_val_reg\n",
    "from generators import grid_hp_generator\n",
    "from Models.model_buiders import build_ESN\n",
    "\n",
    "m_list = double_k_fold(x_dataset, y_dataset, n_out_fold=5, n_in_fold=4, n_restart=3,\n",
    "                       hp_generator=grid_hp_generator,\n",
    "                       n_iter=108, #if grid_hp_generator is used this value is ignored\n",
    "                       model_builder=build_ESN,\n",
    "                       search=search_direct, val_fun=k_fold_val_reg,\n",
    "                       units=[500, 2000], input_scaling=[1.5],\n",
    "                       bias_scaling=[0.1],\n",
    "                       spectral_radius=[0.999], leaky=[0.1])\n",
    "\n",
    "\n"
   ],
   "metadata": {
    "collapsed": false,
    "pycharm": {
     "name": "#%%\n",
     "is_executing": true
    }
   }
  },
  {
   "cell_type": "code",
   "execution_count": 7,
   "outputs": [],
   "source": [
    "train_accuracys = []\n",
    "val_accuracys = []\n",
    "test_accuracys = []\n",
    "sens_accuracys = []\n",
    "specs_accuracys = []\n",
    "for mf in m_list:\n",
    "    trains = np.array([m[2] for m in mf])\n",
    "    vals = np.array([m[3] for m in mf])\n",
    "    tests = np.array([m[4][0] for m in mf])\n",
    "    sens = np.array([m[4][1] for m in mf])\n",
    "    specs = np.array([m[4][2] for m in mf])\n",
    "    train_accuracys.append(trains.mean())\n",
    "    val_accuracys.append(vals.mean())\n",
    "    test_accuracys.append(tests.mean())\n",
    "    sens_accuracys.append(sens.mean())\n",
    "    specs_accuracys.append(specs.mean())\n",
    "\n",
    "train_accuracys = np.array(train_accuracys)\n",
    "val_accuracys = np.array(val_accuracys)\n",
    "test_accuracys = np.array(test_accuracys)\n",
    "sens_accuracys = np.array(sens_accuracys)\n",
    "specs_accuracys = np.array(specs_accuracys)\n",
    "\n",
    "final_train_avg = train_accuracys.mean()\n",
    "final_train_std = train_accuracys.std()\n",
    "final_val_avg = val_accuracys.mean()\n",
    "final_val_std = val_accuracys.std()\n",
    "final_test_avg = test_accuracys.mean()\n",
    "final_test_std = test_accuracys.std()\n",
    "final_sens_avg = sens_accuracys.mean()\n",
    "final_sens_std = sens_accuracys.std()\n",
    "final_spec_avg = specs_accuracys.mean()\n",
    "final_spec_std = specs_accuracys.std()\n",
    "\n",
    "with open(fr\"./result_ESN_{n_leads}.txt\", \"w\") as output_file:\n",
    "    print(\"leads: \", leads, file=output_file)\n",
    "    print(\"train accuracy: \", final_train_avg, file=output_file)\n",
    "    print(\"train accuracy std: \", final_train_std, file=output_file)\n",
    "    print(\"validation accuracy: \", final_val_avg, file=output_file)\n",
    "    print(\"validation accuracy std: \", final_val_std, file=output_file)\n",
    "    print(\"test accuracy: \", final_test_avg, file=output_file)\n",
    "    print(\"test accuracy std: \", final_test_std, file=output_file)\n",
    "    print(\"sensitivity accuracy: \", final_sens_avg, file=output_file)\n",
    "    print(\"sensitivity accuracy std: \", final_sens_std, file=output_file)\n",
    "    print(\"specificity accuracy: \", final_spec_avg, file=output_file)\n",
    "    print(\"specificity accuracy std: \", final_spec_std, file=output_file)\n",
    "\n",
    "    print(\n",
    "        f\"${round(final_train_avg, 3)} \\pm {round(final_train_std, 4)}$ & ${round(final_val_avg, 3)} \\pm {round(final_val_std, 4)}$ & ${round(final_test_avg, 3)} \\pm {round(final_test_std, 4)}$ & ${round(final_sens_avg, 3)} \\pm {round(final_sens_std, 4)}$ & ${round(final_spec_avg, 3)} \\pm {round(final_spec_std, 4)}$\",\n",
    "        file=output_file)\n",
    "    print(\"\", file=output_file)\n",
    "    print(\"units:\", file=output_file)\n",
    "    for mf in m_list:\n",
    "        for m in mf:\n",
    "            print(m[1][\"units\"], file=output_file)\n",
    "    print(\"\", file=output_file)\n",
    "    print(\"input scaling:\", file=output_file)\n",
    "    for mf in m_list:\n",
    "        for m in mf:\n",
    "            print(m[1][\"input_scaling\"], file=output_file)\n",
    "    print(\"\", file=output_file)\n",
    "    print(\"bias scaling:\", file=output_file)\n",
    "    for mf in m_list:\n",
    "        for m in mf:\n",
    "            print(m[1][\"bias_scaling\"], file=output_file)\n",
    "    print(\"\", file=output_file)\n",
    "    print(\"spectral radius:\", file=output_file)\n",
    "    for mf in m_list:\n",
    "        for m in mf:\n",
    "            print(m[1][\"spectral_radius\"], file=output_file)\n",
    "    print(\"\", file=output_file)\n",
    "    print(\"leaking rate:\", file=output_file)\n",
    "    for mf in m_list:\n",
    "        for m in mf:\n",
    "            print(m[1][\"leaky\"], file=output_file)\n",
    "    print(\"\", file=output_file)\n",
    "    print(\"reg:\", file=output_file)\n",
    "    for mf in m_list:\n",
    "        for m in mf:\n",
    "            print(m[1][\"reg\"], file=output_file)\n",
    "    print(\"\", file=output_file)\n",
    "    print(\"training acc:\", file=output_file)\n",
    "    for mf in m_list:\n",
    "        for m in mf:\n",
    "            print(m[2], file=output_file)\n",
    "    print(\"\", file=output_file)\n",
    "    print(\"val acc:\", file=output_file)\n",
    "    for mf in m_list:\n",
    "        for m in mf:\n",
    "            print(m[3], file=output_file)\n",
    "    print(\"\", file=output_file)\n",
    "    print(\"test acc:\", file=output_file)\n",
    "    for mf in m_list:\n",
    "        for m in mf:\n",
    "            print(m[4][0], file=output_file)\n",
    "    print(\"\", file=output_file)\n",
    "    print(\"sens acc:\", file=output_file)\n",
    "    for mf in m_list:\n",
    "        for m in mf:\n",
    "            print(m[4][1], file=output_file)\n",
    "    print(\"\", file=output_file)\n",
    "    print(\"spec acc:\", file=output_file)\n",
    "    for mf in m_list:\n",
    "        for m in mf:\n",
    "            print(m[4][2], file=output_file)"
   ],
   "metadata": {
    "collapsed": false,
    "pycharm": {
     "name": "#%%\n"
    }
   }
  },
  {
   "cell_type": "code",
   "execution_count": null,
   "outputs": [],
   "source": [],
   "metadata": {
    "collapsed": false,
    "pycharm": {
     "name": "#%%\n"
    }
   }
  }
 ],
 "metadata": {
  "kernelspec": {
   "display_name": "Python 3",
   "language": "python",
   "name": "python3"
  },
  "language_info": {
   "codemirror_mode": {
    "name": "ipython",
    "version": 2
   },
   "file_extension": ".py",
   "mimetype": "text/x-python",
   "name": "python",
   "nbconvert_exporter": "python",
   "pygments_lexer": "ipython2",
   "version": "2.7.6"
  }
 },
 "nbformat": 4,
 "nbformat_minor": 0
}
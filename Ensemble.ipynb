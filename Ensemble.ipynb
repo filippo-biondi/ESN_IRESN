{
 "cells": [
  {
   "cell_type": "code",
   "execution_count": 1,
   "metadata": {
    "collapsed": true,
    "pycharm": {
     "name": "#%%\n"
    }
   },
   "outputs": [],
   "source": [
    "import os\n",
    "import warnings\n",
    "import pickle\n",
    "import numpy as np\n",
    "import random\n",
    "\n",
    "os.environ[\"CUDA_VISIBLE_DEVICES\"] = '-1'\n",
    "os.environ['TF_CPP_MIN_LOG_LEVEL'] = '3'\n",
    "warnings.filterwarnings('ignore')"
   ]
  },
  {
   "cell_type": "code",
   "execution_count": 2,
   "outputs": [],
   "source": [
    "with open(r\"./Data/dataset_n306_X_500_12.pickle\", \"rb\") as input_file:\n",
    "    dataset = pickle.load(input_file)\n",
    "\n",
    "(x_dataset, y_dataset, labels) = dataset\n",
    "permutation = list(range(x_dataset.shape[0]))\n",
    "\n",
    "# if you need to shuffle the dataset\n",
    "random.shuffle(permutation)\n",
    "\n",
    "x_dataset = np.array([x_dataset[i] for i in permutation])\n",
    "y_dataset = np.array([y_dataset[i] for i in permutation])\n",
    "labels = np.array([labels[i] for i in permutation])\n",
    "\n",
    "leads = [6, 7, 8] # V1 V2 V3\n",
    "n_leads = len(leads)\n",
    "x_dataset = np.take(x_dataset, leads, axis=-1)"
   ],
   "metadata": {
    "collapsed": false,
    "pycharm": {
     "name": "#%%\n"
    }
   }
  },
  {
   "cell_type": "code",
   "execution_count": null,
   "outputs": [],
   "source": [
    "import numpy as np\n",
    "\n",
    "from search import *\n",
    "from Models.Ensemble.EnsembleVoter import EnsembleVoter\n",
    "from Models.model_buiders import build_ESN\n",
    "from generators import grid_hp_generator\n",
    "\n",
    "n_out_fold = 5\n",
    "n_restart = 2\n",
    "\n",
    "splitted_x_dataset = np.split(x_dataset, n_leads, axis=-1)\n",
    "\n",
    "m_list = [[] for _ in range(n_out_fold)]\n",
    "kf_out = KFold(n_splits=n_out_fold)\n",
    "\n",
    "with open(fr\"./ensemble_{n_leads}.txt\", \"w\") as output_file:\n",
    "    for fold in range(n_out_fold):\n",
    "        train_val_index, test_index = list(kf_out.split(x_dataset))[fold]\n",
    "        print(f\"fold {fold+1}\")\n",
    "        y_trainval, y_test = y_dataset[train_val_index], y_dataset[test_index]\n",
    "        x_trainval = []\n",
    "        x_test = []\n",
    "        for i in range(n_leads):\n",
    "            x_trainval.append(splitted_x_dataset[i][train_val_index])\n",
    "            x_test.append(splitted_x_dataset[i][test_index])\n",
    "\n",
    "        for rest in range(n_restart):\n",
    "            print(f\"restart {rest+1}\")\n",
    "            ESNs = []\n",
    "            for i, x_set in enumerate(x_trainval):\n",
    "                print(f\"lead {i}\")\n",
    "                ESN, param, train, val = search_direct(build_ESN,\n",
    "                                                               grid_hp_generator(n_iter=108, units=[50, 1000],\n",
    "                                                                                 input_scaling=[1.5],\n",
    "                                                                                 bias_scaling=[0.1],\n",
    "                                                                                 spectral_radius=[0.999], leaky=[0.1]),\n",
    "                                                               x_set, y_trainval, k_fold_val_reg, n_fold=4)\n",
    "                print(\"ESN n.\", i+1, file=output_file)\n",
    "                print(\"units\", param[\"units\"], file=output_file)\n",
    "                print(\"input_scaling\", param[\"input_scaling\"], file=output_file)\n",
    "                print(\"bias_scaling\", param[\"bias_scaling\"], file=output_file)\n",
    "                print(\"spectral radius\", param[\"spectral_radius\"], file=output_file)\n",
    "                print(\"leaking rate\", param[\"leaky\"], file=output_file)\n",
    "                print(\"regression lambda\", param[\"reg\"], file=output_file)\n",
    "                print(\"training accuracy\", train, file=output_file)\n",
    "                print(\"validation accuracy\", val, file=output_file)\n",
    "                t = ESN.evaluate_precise(x_test[i], y_test)\n",
    "                print(\"test accuracy\", t[0], file=output_file)\n",
    "                print(\"sensitivity\", t[1], file=output_file)\n",
    "                print(\"specificity\", t[2], file=output_file)\n",
    "                ESNs.append(ESN)\n",
    "            print(\"\", file=output_file)\n",
    "            voting_model = EnsembleVoter(ESNs)\n",
    "            train_acc = voting_model.evaluate(x_trainval, y_trainval)\n",
    "            test_acc = voting_model.evaluate_precise(x_test, y_test)\n",
    "            print(\"train accuracy\", train_acc, file=output_file)\n",
    "            print(\"test accuracy\", test_acc[0], file=output_file)\n",
    "            print(\"sensitivity\", test_acc[1], file=output_file)\n",
    "            print(\"specificity\", test_acc[2], file=output_file)\n",
    "            print(\"\", file=output_file)\n",
    "            m_list[fold].append((voting_model, \"\", train_acc, \"\", test_acc))\n",
    "            print(\"\", file=output_file)\n",
    "\n"
   ],
   "metadata": {
    "collapsed": false,
    "pycharm": {
     "name": "#%%\n",
     "is_executing": true
    }
   }
  },
  {
   "cell_type": "code",
   "execution_count": 12,
   "outputs": [],
   "source": [
    "train_accuracys = []\n",
    "test_accuracys = []\n",
    "sens_accuracys = []\n",
    "specs_accuracys = []\n",
    "\n",
    "for mf in m_list:\n",
    "    trains = np.array([m[2] for m in mf])\n",
    "    tests = np.array([m[4][0] for m in mf])\n",
    "    sens = np.array([m[4][1] for m in mf])\n",
    "    specs = np.array([m[4][2] for m in mf])\n",
    "    train_accuracys.append(trains.mean())\n",
    "    test_accuracys.append(tests.mean())\n",
    "    sens_accuracys.append(sens.mean())\n",
    "    specs_accuracys.append(specs.mean())\n",
    "\n",
    "train_accuracys = np.array(train_accuracys)\n",
    "test_accuracys = np.array(test_accuracys)\n",
    "sens_accuracys = np.array(sens_accuracys)\n",
    "specs_accuracys = np.array(specs_accuracys)\n",
    "\n",
    "final_train_avg = train_accuracys.mean()\n",
    "final_train_std = train_accuracys.std()\n",
    "final_test_avg = test_accuracys.mean()\n",
    "final_test_std = test_accuracys.std()\n",
    "final_sens_avg = sens_accuracys.mean()\n",
    "final_sens_std = sens_accuracys.std()\n",
    "final_spec_avg = specs_accuracys.mean()\n",
    "final_spec_std = specs_accuracys.std()\n",
    "\n",
    "with open(fr\"./result_ensemble_{n_leads}.txt\", \"w\") as output_file:\n",
    "    print(\"leads: \", leads, file=output_file)\n",
    "    print(\"train accuracy: \", final_train_avg, file=output_file)\n",
    "    print(\"train accuracy std: \", final_train_std, file=output_file)\n",
    "    print(\"test accuracy: \", final_test_avg, file=output_file)\n",
    "    print(\"test accuracy std: \", final_test_std, file=output_file)\n",
    "    print(\"sensitivity accuracy: \", final_sens_avg, file=output_file)\n",
    "    print(\"sensitivity accuracy std: \", final_sens_std, file=output_file)\n",
    "    print(\"specificity accuracy: \", final_spec_avg, file=output_file)\n",
    "    print(\"specificity accuracy std: \", final_spec_std, file=output_file)\n",
    "\n",
    "    print(\n",
    "        f\"${round(final_train_avg, 3)} \\pm {round(final_train_std, 4)}$ & ${round(final_test_avg, 3)} \\pm {round(final_test_std, 4)}$ & ${round(final_sens_avg, 3)} \\pm {round(final_sens_std, 4)}$ & ${round(final_spec_avg, 3)} \\pm {round(final_spec_std, 4)}$\",\n",
    "        file=output_file)\n",
    "    print(\"\", file=output_file)"
   ],
   "metadata": {
    "collapsed": false,
    "pycharm": {
     "name": "#%%\n"
    }
   }
  },
  {
   "cell_type": "code",
   "execution_count": 9,
   "outputs": [],
   "source": [],
   "metadata": {
    "collapsed": false,
    "pycharm": {
     "name": "#%%\n"
    }
   }
  }
 ],
 "metadata": {
  "kernelspec": {
   "display_name": "Python 3",
   "language": "python",
   "name": "python3"
  },
  "language_info": {
   "codemirror_mode": {
    "name": "ipython",
    "version": 2
   },
   "file_extension": ".py",
   "mimetype": "text/x-python",
   "name": "python",
   "nbconvert_exporter": "python",
   "pygments_lexer": "ipython2",
   "version": "2.7.6"
  }
 },
 "nbformat": 4,
 "nbformat_minor": 0
}